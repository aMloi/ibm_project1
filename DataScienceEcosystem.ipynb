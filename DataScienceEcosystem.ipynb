{
 "cells": [
  {
   "cell_type": "markdown",
   "id": "23ffb806-3fa6-4096-a14d-bc5e699a9c2a",
   "metadata": {
    "tags": []
   },
   "source": [
    "# Data Science Tools and Ecosystem"
   ]
  },
  {
   "cell_type": "markdown",
   "id": "c66ac64d-959d-4e35-ae97-455b716eb188",
   "metadata": {},
   "source": [
    "In this notebook, Data Science Tools and Ecosystem are summarized."
   ]
  },
  {
   "cell_type": "markdown",
   "id": "0f4a4be7-af95-41c1-8613-cfe5158d826f",
   "metadata": {
    "tags": []
   },
   "source": [
    "**Objectives:**\n",
    "* List popular languages for Data Science.\n",
    "* List of the commonly used libraries used by Data Scientists\n",
    "* table of development environment open source tools used in data science\n"
   ]
  },
  {
   "cell_type": "markdown",
   "id": "f177715a-24a2-4f45-8e8d-478751bce8e9",
   "metadata": {},
   "source": [
    "## Author :\n",
    "Ali moubark"
   ]
  },
  {
   "cell_type": "markdown",
   "id": "4f22b528-413c-4d9c-a0a2-3defcdf2f58a",
   "metadata": {},
   "source": [
    "Some of the popular languages that Data Scientists use are:\n",
    "1. python\n",
    "2. R\n",
    "3. java"
   ]
  },
  {
   "cell_type": "markdown",
   "id": "d7708d9c-d345-429a-8b76-6b73157dbc68",
   "metadata": {},
   "source": [
    "some of the commonly used libraries used by Data Scientists include:\n",
    "* numpy\n",
    "* pandas\n",
    "* matplotlib\n",
    "\n"
   ]
  },
  {
   "cell_type": "markdown",
   "id": "4911fbea-4a08-4d9f-a5bc-3040917bcd4a",
   "metadata": {},
   "source": [
    "|Data Science Tools   |   \n",
    "------------------\n",
    "| jupyter  |\n",
    "| rstudio |\n",
    "| spyder  |"
   ]
  },
  {
   "cell_type": "markdown",
   "id": "40877267-aa9c-4b1b-bd5d-bed2e318d4f5",
   "metadata": {},
   "source": [
    "### Below are a few examples of evaluating arithmetic expressions in Python\n",
    "\n",
    "+ '+'\n",
    "- '-'\n",
    "* '*'"
   ]
  },
  {
   "cell_type": "code",
   "execution_count": 6,
   "id": "7dc704a1-b794-4fdb-8e38-80bde9bd3cff",
   "metadata": {
    "tags": []
   },
   "outputs": [
    {
     "data": {
      "text/plain": [
       "17"
      ]
     },
     "execution_count": 6,
     "metadata": {},
     "output_type": "execute_result"
    }
   ],
   "source": [
    "#This a simple arithmetic expression to mutiply then add integers\n",
    "(3*4)+5"
   ]
  },
  {
   "cell_type": "code",
   "execution_count": 4,
   "id": "2b80304c-da40-4892-b184-45bc0ff0c2c7",
   "metadata": {
    "tags": []
   },
   "outputs": [
    {
     "data": {
      "text/plain": [
       "3.3333333333333335"
      ]
     },
     "execution_count": 4,
     "metadata": {},
     "output_type": "execute_result"
    }
   ],
   "source": [
    " #This will convert 200 minutes to hours by diving by 60\n",
    "hours = 200 / 60\n",
    "hours"
   ]
  }
 ],
 "metadata": {
  "kernelspec": {
   "display_name": "Python",
   "language": "python",
   "name": "conda-env-python-py"
  },
  "language_info": {
   "codemirror_mode": {
    "name": "ipython",
    "version": 3
   },
   "file_extension": ".py",
   "mimetype": "text/x-python",
   "name": "python",
   "nbconvert_exporter": "python",
   "pygments_lexer": "ipython3",
   "version": "3.7.12"
  }
 },
 "nbformat": 4,
 "nbformat_minor": 5
}
